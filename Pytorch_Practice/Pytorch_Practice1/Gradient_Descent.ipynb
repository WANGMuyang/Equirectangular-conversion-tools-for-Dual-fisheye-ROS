{
 "cells": [
  {
   "cell_type": "code",
   "execution_count": 32,
   "metadata": {},
   "outputs": [],
   "source": [
    "import torch\n",
    "import torch.nn.functional as F"
   ]
  },
  {
   "cell_type": "code",
   "execution_count": 33,
   "metadata": {},
   "outputs": [],
   "source": [
    "target = torch.FloatTensor([[0.1,0.2,0.3]\n",
    "                           ,[0.4,0.5,0.6]\n",
    "                           ,[0.7,0.8,0.9]])"
   ]
  },
  {
   "cell_type": "code",
   "execution_count": 34,
   "metadata": {},
   "outputs": [
    {
     "data": {
      "text/plain": [
       "tensor([[0.6711, 0.2580, 0.5161],\n",
       "        [0.7701, 0.2759, 0.4597],\n",
       "        [0.0574, 0.3092, 0.6652]], requires_grad=True)"
      ]
     },
     "execution_count": 34,
     "metadata": {},
     "output_type": "execute_result"
    }
   ],
   "source": [
    "x = torch.rand_like(target)\n",
    "x.requires_grad = True\n",
    "x"
   ]
  },
  {
   "cell_type": "code",
   "execution_count": 35,
   "metadata": {},
   "outputs": [],
   "source": [
    "loss = F.mse_loss(x,target)"
   ]
  },
  {
   "cell_type": "code",
   "execution_count": 36,
   "metadata": {},
   "outputs": [
    {
     "name": "stdout",
     "output_type": "stream",
     "text": [
      "1-th loss : 1.4356e-01\n",
      "tensor([[0.5442, 0.2451, 0.4681],\n",
      "        [0.6879, 0.3257, 0.4909],\n",
      "        [0.2002, 0.4182, 0.7173]], requires_grad=True)\n",
      "2-th loss : 8.6845e-02\n",
      "tensor([[0.4455, 0.2351, 0.4307],\n",
      "        [0.6239, 0.3644, 0.5152],\n",
      "        [0.3113, 0.5031, 0.7579]], requires_grad=True)\n",
      "3-th loss : 5.2536e-02\n",
      "tensor([[0.3687, 0.2273, 0.4017],\n",
      "        [0.5742, 0.3945, 0.5340],\n",
      "        [0.3977, 0.5691, 0.7895]], requires_grad=True)\n",
      "4-th loss : 3.1781e-02\n",
      "tensor([[0.3090, 0.2212, 0.3791],\n",
      "        [0.5355, 0.4180, 0.5487],\n",
      "        [0.4649, 0.6204, 0.8141]], requires_grad=True)\n",
      "5-th loss : 1.9226e-02\n",
      "tensor([[0.2625, 0.2165, 0.3615],\n",
      "        [0.5054, 0.4362, 0.5601],\n",
      "        [0.5171, 0.6603, 0.8332]], requires_grad=True)\n",
      "6-th loss : 1.1630e-02\n",
      "tensor([[0.2264, 0.2128, 0.3478],\n",
      "        [0.4819, 0.4504, 0.5689],\n",
      "        [0.5578, 0.6913, 0.8480]], requires_grad=True)\n",
      "7-th loss : 7.0356e-03\n",
      "tensor([[0.1983, 0.2100, 0.3372],\n",
      "        [0.4637, 0.4614, 0.5758],\n",
      "        [0.5894, 0.7155, 0.8596]], requires_grad=True)\n",
      "8-th loss : 4.2561e-03\n",
      "tensor([[0.1765, 0.2078, 0.3289],\n",
      "        [0.4496, 0.4700, 0.5812],\n",
      "        [0.6139, 0.7343, 0.8686]], requires_grad=True)\n",
      "9-th loss : 2.5747e-03\n",
      "tensor([[0.1595, 0.2060, 0.3225],\n",
      "        [0.4386, 0.4767, 0.5854],\n",
      "        [0.6331, 0.7489, 0.8755]], requires_grad=True)\n",
      "10-th loss : 1.5575e-03\n",
      "tensor([[0.1463, 0.2047, 0.3175],\n",
      "        [0.4300, 0.4818, 0.5886],\n",
      "        [0.6479, 0.7602, 0.8810]], requires_grad=True)\n",
      "11-th loss : 9.4221e-04\n",
      "tensor([[0.1360, 0.2037, 0.3136],\n",
      "        [0.4233, 0.4859, 0.5912],\n",
      "        [0.6595, 0.7691, 0.8852]], requires_grad=True)\n",
      "12-th loss : 5.6998e-04\n",
      "tensor([[0.1280, 0.2028, 0.3106],\n",
      "        [0.4181, 0.4890, 0.5931],\n",
      "        [0.6685, 0.7759, 0.8885]], requires_grad=True)\n",
      "13-th loss : 3.4480e-04\n",
      "tensor([[0.1218, 0.2022, 0.3082],\n",
      "        [0.4141, 0.4915, 0.5947],\n",
      "        [0.6755, 0.7813, 0.8910]], requires_grad=True)\n",
      "14-th loss : 2.0858e-04\n",
      "tensor([[0.1169, 0.2017, 0.3064],\n",
      "        [0.4110, 0.4934, 0.5958],\n",
      "        [0.6810, 0.7854, 0.8930]], requires_grad=True)\n",
      "15-th loss : 1.2618e-04\n",
      "tensor([[0.1132, 0.2013, 0.3050],\n",
      "        [0.4085, 0.4948, 0.5968],\n",
      "        [0.6852, 0.7887, 0.8946]], requires_grad=True)\n",
      "16-th loss : 7.6331e-05\n",
      "tensor([[0.1102, 0.2010, 0.3039],\n",
      "        [0.4066, 0.4960, 0.5975],\n",
      "        [0.6885, 0.7912, 0.8958]], requires_grad=True)\n",
      "17-th loss : 4.6176e-05\n",
      "tensor([[0.1080, 0.2008, 0.3030],\n",
      "        [0.4052, 0.4969, 0.5980],\n",
      "        [0.6910, 0.7932, 0.8967]], requires_grad=True)\n",
      "18-th loss : 2.7933e-05\n",
      "tensor([[0.1062, 0.2006, 0.3023],\n",
      "        [0.4040, 0.4976, 0.5985],\n",
      "        [0.6930, 0.7947, 0.8975]], requires_grad=True)\n",
      "19-th loss : 1.6898e-05\n",
      "tensor([[0.1048, 0.2005, 0.3018],\n",
      "        [0.4031, 0.4981, 0.5988],\n",
      "        [0.6946, 0.7959, 0.8980]], requires_grad=True)\n",
      "20-th loss : 1.0222e-05\n",
      "tensor([[0.1037, 0.2004, 0.3014],\n",
      "        [0.4024, 0.4985, 0.5991],\n",
      "        [0.6958, 0.7968, 0.8985]], requires_grad=True)\n",
      "21-th loss : 6.1838e-06\n",
      "tensor([[0.1029, 0.2003, 0.3011],\n",
      "        [0.4019, 0.4989, 0.5993],\n",
      "        [0.6967, 0.7975, 0.8988]], requires_grad=True)\n"
     ]
    }
   ],
   "source": [
    "threshold = 1e-5\n",
    "learning_rate = 1.\n",
    "iter_cnt = 0\n",
    "\n",
    "while loss>threshold:\n",
    "    iter_cnt +=1\n",
    "    loss = F.mse_loss(x,target)\n",
    "    loss.backward()\n",
    "    x = x-learning_rate*x.grad\n",
    "    x.detach_()\n",
    "    x.requires_grad_(True)\n",
    "    print(\"%d-th loss : %.4e\" % (iter_cnt,loss))\n",
    "    print(x)"
   ]
  },
  {
   "cell_type": "code",
   "execution_count": null,
   "metadata": {},
   "outputs": [],
   "source": []
  }
 ],
 "metadata": {
  "kernelspec": {
   "display_name": "Python 3",
   "language": "python",
   "name": "python3"
  },
  "language_info": {
   "codemirror_mode": {
    "name": "ipython",
    "version": 3
   },
   "file_extension": ".py",
   "mimetype": "text/x-python",
   "name": "python",
   "nbconvert_exporter": "python",
   "pygments_lexer": "ipython3",
   "version": "3.8.3"
  }
 },
 "nbformat": 4,
 "nbformat_minor": 4
}
