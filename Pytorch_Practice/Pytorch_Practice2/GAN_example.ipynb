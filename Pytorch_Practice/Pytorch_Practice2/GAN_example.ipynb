{
 "cells": [
  {
   "cell_type": "code",
   "execution_count": 1,
   "metadata": {},
   "outputs": [],
   "source": [
    "import torch\n",
    "import torch.nn as nn"
   ]
  },
  {
   "cell_type": "code",
   "execution_count": 2,
   "metadata": {},
   "outputs": [],
   "source": [
    "D = nn.Sequential(\n",
    "    nn.Linear(784,128),\n",
    "    nn.ReLU(),\n",
    "    nn.Linear(128,1),\n",
    "    nn.Sigmoid()\n",
    ")\n",
    "\n",
    "G = nn.Sequential(\n",
    "    nn.Linear(100,128),\n",
    "    nn.ReLU(),\n",
    "    nn.Linear(128,784),\n",
    "    nn.Tanh()\n",
    ")\n",
    "\n",
    "criterion = nn.BCELoss()\n",
    "\n",
    "d_optimizer = torch.optim.Adam(D.parameters(), lr = 0.01)\n",
    "g_optimizer = torch.optim.Adam(G.parameters(), lr = 0.01)"
   ]
  },
  {
   "cell_type": "code",
   "execution_count": null,
   "metadata": {},
   "outputs": [],
   "source": [
    "while True:\n",
    "    # train D\n",
    "    loss = criterion(D(x),1) + criterion(D(G(z),0)\n",
    "    loss.backward()\n",
    "    d_optimizer.step()\n",
    "    \n",
    "     #train G\n",
    "    loss = criterion(D(G(z),1)\n",
    "    loss.backward()\n",
    "    g_optimizer.step()"
   ]
  }
 ],
 "metadata": {
  "kernelspec": {
   "display_name": "Python 3",
   "language": "python",
   "name": "python3"
  },
  "language_info": {
   "codemirror_mode": {
    "name": "ipython",
    "version": 3
   },
   "file_extension": ".py",
   "mimetype": "text/x-python",
   "name": "python",
   "nbconvert_exporter": "python",
   "pygments_lexer": "ipython3",
   "version": "3.8.3"
  }
 },
 "nbformat": 4,
 "nbformat_minor": 4
}
