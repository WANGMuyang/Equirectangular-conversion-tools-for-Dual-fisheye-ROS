{
 "cells": [
  {
   "cell_type": "code",
   "execution_count": 1,
   "metadata": {},
   "outputs": [],
   "source": [
    "import torch\n",
    "import torch.nn as nn\n",
    "from matplotlib import pyplot as plt"
   ]
  },
  {
   "cell_type": "code",
   "execution_count": 2,
   "metadata": {},
   "outputs": [
    {
     "data": {
      "text/plain": [
       "tensor([-25.8877, -19.8164, -19.3140, -16.8433, -15.5589, -15.1129, -15.1078,\n",
       "        -14.5804, -13.9649, -12.9427, -12.6149, -12.2800, -11.5687, -11.3854,\n",
       "        -11.2324, -10.7090, -10.0844,  -9.5395,  -9.4280,  -9.1308,  -8.9771,\n",
       "         -8.6629,  -8.4803,  -8.3108,  -7.8003,  -7.6529,  -7.4911,  -7.2482,\n",
       "         -6.5203,  -5.6900,  -4.9885,  -4.9384,  -4.6579,  -4.3470,  -4.3367,\n",
       "         -4.3108,  -4.0258,  -4.0120,  -3.8427,  -3.7559,  -3.4700,  -3.3039,\n",
       "         -2.6439,  -2.1747,  -2.0740,  -0.8723,  -0.7557,  -0.7491,  -0.2951,\n",
       "          0.4355,   0.4833,   0.5502,   0.6165,   0.6429,   0.7571,   1.0602,\n",
       "          1.0799,   1.1960,   1.2169,   1.2552,   1.9361,   2.2544,   2.5051,\n",
       "          2.5891,   2.7022,   3.2057,   3.5203,   3.5357,   4.0326,   4.3212,\n",
       "          4.8431,   4.8666,   5.3114,   5.5053,   5.8833,   6.0750,   7.1585,\n",
       "          7.6999,   8.0428,   8.0645,   8.2491,   8.2505,   8.4010,  10.0023,\n",
       "         10.3639,  10.8720,  11.2041,  11.7905,  11.8851,  11.9253,  12.2012,\n",
       "         13.0778,  13.2780,  13.8993,  14.6215,  15.3471,  16.0240,  17.3291,\n",
       "         17.3400,  19.6827])"
      ]
     },
     "execution_count": 2,
     "metadata": {},
     "output_type": "execute_result"
    }
   ],
   "source": [
    "x = torch.sort(torch.randn(100)*10)[0]\n",
    "x"
   ]
  },
  {
   "cell_type": "code",
   "execution_count": 3,
   "metadata": {},
   "outputs": [
    {
     "name": "stdout",
     "output_type": "stream",
     "text": [
      "tensor([5.7165e-12, 2.4767e-09, 4.0930e-09, 4.8421e-08, 1.7493e-07, 2.7325e-07,\n",
      "        2.7464e-07, 4.6541e-07, 8.6124e-07, 2.3937e-06, 3.3222e-06, 4.6435e-06,\n",
      "        9.4576e-06, 1.1360e-05, 1.3239e-05, 2.2341e-05, 4.1725e-05, 7.1948e-05,\n",
      "        8.0431e-05, 1.0827e-04, 1.2625e-04, 1.7285e-04, 2.0748e-04, 2.4578e-04,\n",
      "        4.0944e-04, 4.7444e-04, 5.5774e-04, 7.1097e-04, 1.4711e-03, 3.3683e-03,\n",
      "        6.7700e-03, 7.1149e-03, 9.3968e-03, 1.2780e-02, 1.2911e-02, 1.3246e-02,\n",
      "        1.7536e-02, 1.7775e-02, 2.0986e-02, 2.2846e-02, 3.0178e-02, 3.5439e-02,\n",
      "        6.6367e-02, 1.0205e-01, 1.1165e-01, 2.9477e-01, 3.1958e-01, 3.2102e-01,\n",
      "        4.2675e-01, 6.0718e-01, 6.1853e-01, 6.3418e-01, 6.4943e-01, 6.5541e-01,\n",
      "        6.8073e-01, 7.4272e-01, 7.4648e-01, 7.6781e-01, 7.7152e-01, 7.7821e-01,\n",
      "        8.7392e-01, 9.0503e-01, 9.2450e-01, 9.3016e-01, 9.3716e-01, 9.6105e-01,\n",
      "        9.7126e-01, 9.7169e-01, 9.8258e-01, 9.8689e-01, 9.9218e-01, 9.9236e-01,\n",
      "        9.9509e-01, 9.9595e-01, 9.9722e-01, 9.9771e-01, 9.9922e-01, 9.9955e-01,\n",
      "        9.9968e-01, 9.9969e-01, 9.9974e-01, 9.9974e-01, 9.9978e-01, 9.9995e-01,\n",
      "        9.9997e-01, 9.9998e-01, 9.9999e-01, 9.9999e-01, 9.9999e-01, 9.9999e-01,\n",
      "        9.9999e-01, 1.0000e+00, 1.0000e+00, 1.0000e+00, 1.0000e+00, 1.0000e+00,\n",
      "        1.0000e+00, 1.0000e+00, 1.0000e+00, 1.0000e+00])\n"
     ]
    }
   ],
   "source": [
    "#Sigmoid\n",
    "act = nn.Sigmoid()\n",
    "print(act(x))"
   ]
  },
  {
   "cell_type": "code",
   "execution_count": 5,
   "metadata": {},
   "outputs": [
    {
     "name": "stdout",
     "output_type": "stream",
     "text": [
      "tensor([5.7165e-12, 2.4767e-09, 4.0930e-09, 4.8421e-08, 1.7493e-07, 2.7325e-07,\n",
      "        2.7464e-07, 4.6541e-07, 8.6124e-07, 2.3937e-06, 3.3222e-06, 4.6435e-06,\n",
      "        9.4576e-06, 1.1360e-05, 1.3239e-05, 2.2341e-05, 4.1725e-05, 7.1948e-05,\n",
      "        8.0431e-05, 1.0827e-04, 1.2625e-04, 1.7285e-04, 2.0748e-04, 2.4578e-04,\n",
      "        4.0944e-04, 4.7444e-04, 5.5774e-04, 7.1097e-04, 1.4711e-03, 3.3683e-03,\n",
      "        6.7700e-03, 7.1149e-03, 9.3968e-03, 1.2780e-02, 1.2911e-02, 1.3246e-02,\n",
      "        1.7536e-02, 1.7775e-02, 2.0986e-02, 2.2846e-02, 3.0178e-02, 3.5439e-02,\n",
      "        6.6367e-02, 1.0205e-01, 1.1165e-01, 2.9477e-01, 3.1958e-01, 3.2102e-01,\n",
      "        4.2675e-01, 6.0718e-01, 6.1853e-01, 6.3418e-01, 6.4943e-01, 6.5541e-01,\n",
      "        6.8073e-01, 7.4272e-01, 7.4648e-01, 7.6781e-01, 7.7152e-01, 7.7821e-01,\n",
      "        8.7392e-01, 9.0503e-01, 9.2450e-01, 9.3016e-01, 9.3716e-01, 9.6105e-01,\n",
      "        9.7126e-01, 9.7169e-01, 9.8258e-01, 9.8689e-01, 9.9218e-01, 9.9236e-01,\n",
      "        9.9509e-01, 9.9595e-01, 9.9722e-01, 9.9771e-01, 9.9922e-01, 9.9955e-01,\n",
      "        9.9968e-01, 9.9969e-01, 9.9974e-01, 9.9974e-01, 9.9978e-01, 9.9995e-01,\n",
      "        9.9997e-01, 9.9998e-01, 9.9999e-01, 9.9999e-01, 9.9999e-01, 9.9999e-01,\n",
      "        9.9999e-01, 1.0000e+00, 1.0000e+00, 1.0000e+00, 1.0000e+00, 1.0000e+00,\n",
      "        1.0000e+00, 1.0000e+00, 1.0000e+00, 1.0000e+00])\n"
     ]
    }
   ],
   "source": [
    "print(torch.sigmoid(x))"
   ]
  },
  {
   "cell_type": "code",
   "execution_count": 6,
   "metadata": {},
   "outputs": [
    {
     "data": {
      "image/png": "[encoded data removed]",
      "text/plain": [
       "<Figure size 432x288 with 1 Axes>"
      ]
     },
     "metadata": {
      "needs_background": "light"
     },
     "output_type": "display_data"
    }
   ],
   "source": [
    "plt.plot(x.numpy(),torch.sigmoid(x).numpy())\n",
    "plt.show()"
   ]
  },
  {
   "cell_type": "code",
   "execution_count": 8,
   "metadata": {},
   "outputs": [
    {
     "name": "stdout",
     "output_type": "stream",
     "text": [
      "tensor([-1.0000, -1.0000, -1.0000, -1.0000, -1.0000, -1.0000, -1.0000, -1.0000,\n",
      "        -1.0000, -1.0000, -1.0000, -1.0000, -1.0000, -1.0000, -1.0000, -1.0000,\n",
      "        -1.0000, -1.0000, -1.0000, -1.0000, -1.0000, -1.0000, -1.0000, -1.0000,\n",
      "        -1.0000, -1.0000, -1.0000, -1.0000, -1.0000, -1.0000, -0.9999, -0.9999,\n",
      "        -0.9998, -0.9997, -0.9997, -0.9996, -0.9994, -0.9993, -0.9991, -0.9989,\n",
      "        -0.9981, -0.9973, -0.9899, -0.9745, -0.9689, -0.7026, -0.6385, -0.6346,\n",
      "        -0.2869,  0.4099,  0.4489,  0.5007,  0.5487,  0.5669,  0.6394,  0.7857,\n",
      "         0.7932,  0.8324,  0.8387,  0.8497,  0.9592,  0.9782,  0.9867,  0.9888,\n",
      "         0.9910,  0.9967,  0.9983,  0.9983,  0.9994,  0.9996,  0.9999,  0.9999,\n",
      "         1.0000,  1.0000,  1.0000,  1.0000,  1.0000,  1.0000,  1.0000,  1.0000,\n",
      "         1.0000,  1.0000,  1.0000,  1.0000,  1.0000,  1.0000,  1.0000,  1.0000,\n",
      "         1.0000,  1.0000,  1.0000,  1.0000,  1.0000,  1.0000,  1.0000,  1.0000,\n",
      "         1.0000,  1.0000,  1.0000,  1.0000])\n"
     ]
    }
   ],
   "source": [
    "#Tanh = Hyperbolic Tangent\n",
    "act = nn.Tanh()\n",
    "print(act(x))"
   ]
  },
  {
   "cell_type": "code",
   "execution_count": 10,
   "metadata": {},
   "outputs": [
    {
     "name": "stdout",
     "output_type": "stream",
     "text": [
      "tensor([-1.0000, -1.0000, -1.0000, -1.0000, -1.0000, -1.0000, -1.0000, -1.0000,\n",
      "        -1.0000, -1.0000, -1.0000, -1.0000, -1.0000, -1.0000, -1.0000, -1.0000,\n",
      "        -1.0000, -1.0000, -1.0000, -1.0000, -1.0000, -1.0000, -1.0000, -1.0000,\n",
      "        -1.0000, -1.0000, -1.0000, -1.0000, -1.0000, -1.0000, -0.9999, -0.9999,\n",
      "        -0.9998, -0.9997, -0.9997, -0.9996, -0.9994, -0.9993, -0.9991, -0.9989,\n",
      "        -0.9981, -0.9973, -0.9899, -0.9745, -0.9689, -0.7026, -0.6385, -0.6346,\n",
      "        -0.2869,  0.4099,  0.4489,  0.5007,  0.5487,  0.5669,  0.6394,  0.7857,\n",
      "         0.7932,  0.8324,  0.8387,  0.8497,  0.9592,  0.9782,  0.9867,  0.9888,\n",
      "         0.9910,  0.9967,  0.9983,  0.9983,  0.9994,  0.9996,  0.9999,  0.9999,\n",
      "         1.0000,  1.0000,  1.0000,  1.0000,  1.0000,  1.0000,  1.0000,  1.0000,\n",
      "         1.0000,  1.0000,  1.0000,  1.0000,  1.0000,  1.0000,  1.0000,  1.0000,\n",
      "         1.0000,  1.0000,  1.0000,  1.0000,  1.0000,  1.0000,  1.0000,  1.0000,\n",
      "         1.0000,  1.0000,  1.0000,  1.0000])\n"
     ]
    }
   ],
   "source": [
    "print(torch.tanh(x))"
   ]
  },
  {
   "cell_type": "code",
   "execution_count": 11,
   "metadata": {},
   "outputs": [
    {
     "data": {
      "image/png": "[encoded data removed]",
      "text/plain": [
       "<Figure size 432x288 with 1 Axes>"
      ]
     },
     "metadata": {
      "needs_background": "light"
     },
     "output_type": "display_data"
    }
   ],
   "source": [
    "plt.plot(x.numpy(),torch.tanh(x).numpy())\n",
    "plt.show()"
   ]
  },
  {
   "cell_type": "code",
   "execution_count": null,
   "metadata": {},
   "outputs": [],
   "source": []
  }
 ],
 "metadata": {
  "kernelspec": {
   "display_name": "Python 3",
   "language": "python",
   "name": "python3"
  },
  "language_info": {
   "codemirror_mode": {
    "name": "ipython",
    "version": 3
   },
   "file_extension": ".py",
   "mimetype": "text/x-python",
   "name": "python",
   "nbconvert_exporter": "python",
   "pygments_lexer": "ipython3",
   "version": "3.8.3"
  }
 },
 "nbformat": 4,
 "nbformat_minor": 4
}
