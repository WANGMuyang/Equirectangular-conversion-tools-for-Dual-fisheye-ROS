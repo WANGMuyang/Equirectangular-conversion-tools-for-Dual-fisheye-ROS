{
 "cells": [
  {
   "cell_type": "code",
   "execution_count": 2,
   "metadata": {},
   "outputs": [],
   "source": [
    "import torch"
   ]
  },
  {
   "cell_type": "code",
   "execution_count": 4,
   "metadata": {},
   "outputs": [],
   "source": [
    "W = torch.FloatTensor([[1,2],\n",
    "                       [3,4],\n",
    "                       [5,6]])\n",
    "b = torch.FloatTensor([2,2])\n"
   ]
  },
  {
   "cell_type": "code",
   "execution_count": 5,
   "metadata": {},
   "outputs": [],
   "source": [
    "def linear(x,W,b):\n",
    "    y = torch.matmul(x,W) + b"
   ]
  },
  {
   "cell_type": "code",
   "execution_count": 7,
   "metadata": {},
   "outputs": [
    {
     "name": "stdout",
     "output_type": "stream",
     "text": [
      "torch.Size([4, 3])\n"
     ]
    }
   ],
   "source": [
    "x = torch.FloatTensor([[1,1,1]\n",
    "                      ,[2,2,2]\n",
    "                      ,[3,3,3]\n",
    "                      ,[4,4,4]])\n",
    "print(x.size())"
   ]
  },
  {
   "cell_type": "code",
   "execution_count": 8,
   "metadata": {},
   "outputs": [],
   "source": [
    "y = linear(x,W,b)"
   ]
  },
  {
   "cell_type": "code",
   "execution_count": 14,
   "metadata": {},
   "outputs": [],
   "source": [
    "import torch.nn as nn"
   ]
  },
  {
   "cell_type": "code",
   "execution_count": 15,
   "metadata": {},
   "outputs": [],
   "source": [
    "class MyLinear(nn.Module):\n",
    "    def __init__(self,input_dim = 3,output_dim = 2):\n",
    "        self.input_dim = input_dim\n",
    "        self.output_dim = output_dim\n",
    "        \n",
    "        super().__init__()\n",
    "        \n",
    "        self.W = torch.FloatTensor(input_dim,output_dim)\n",
    "        self.b = torch.FloatTensor(output_dim)\n",
    "        \n",
    "    def forward(self,x):\n",
    "        # x_size -> (batch_size, input_dim)\n",
    "        y = torch.matmul(x,self.W) + self.b\n",
    "        # y_size -> (batch_size, input_dim) * (input_dim, output_dim)\n",
    "        #    = (batch_size, output_dim)\n",
    "        return y"
   ]
  },
  {
   "cell_type": "code",
   "execution_count": 16,
   "metadata": {},
   "outputs": [],
   "source": [
    "linear = MyLinear(3,2)\n",
    "\n",
    "y = linear(x) # linear.forward 라고 안해도 된대!"
   ]
  },
  {
   "cell_type": "code",
   "execution_count": 17,
   "metadata": {},
   "outputs": [
    {
     "name": "stdout",
     "output_type": "stream",
     "text": [
      "torch.Size([4, 2])\n"
     ]
    }
   ],
   "source": [
    "print(y.size())"
   ]
  },
  {
   "cell_type": "code",
   "execution_count": 18,
   "metadata": {},
   "outputs": [],
   "source": [
    "for p in linear.parameters():  \n",
    "# 실제로 학습을 시키려면 Parameter등록을 해야한다.\n",
    "    print(p)"
   ]
  },
  {
   "cell_type": "code",
   "execution_count": 19,
   "metadata": {},
   "outputs": [],
   "source": [
    "class MyLinear(nn.Module):\n",
    "    def __init__(self,input_dim = 3,output_dim = 2):\n",
    "        self.input_dim = input_dim\n",
    "        self.output_dim = output_dim\n",
    "        \n",
    "        super().__init__()\n",
    "        \n",
    "        self.W = nn.Parameter(torch.FloatTensor(input_dim,output_dim))\n",
    "        self.b = nn.Parameter(torch.FloatTensor(output_dim))\n",
    "        \n",
    "    def forward(self,x):\n",
    "        # x_size -> (batch_size, input_dim)\n",
    "        y = torch.matmul(x,self.W) + self.b\n",
    "        # y_size -> (batch_size, input_dim) * (input_dim, output_dim)\n",
    "        #    = (batch_size, output_dim)\n",
    "        return y\n"
   ]
  },
  {
   "cell_type": "code",
   "execution_count": 23,
   "metadata": {},
   "outputs": [
    {
     "name": "stdout",
     "output_type": "stream",
     "text": [
      "torch.Size([4, 2])\n"
     ]
    }
   ],
   "source": [
    "linear = MyLinear(3,2)\n",
    "\n",
    "y = linear(x)\n",
    "print(y.size())"
   ]
  },
  {
   "cell_type": "code",
   "execution_count": 24,
   "metadata": {},
   "outputs": [
    {
     "name": "stdout",
     "output_type": "stream",
     "text": [
      "Parameter containing:\n",
      "tensor([[2.6330e+20, 3.4016e+21],\n",
      "        [4.2491e-05, 6.8996e-07],\n",
      "        [1.6913e+22, 1.0500e-08]], requires_grad=True)\n",
      "Parameter containing:\n",
      "tensor([4.3199e+24, 4.5909e-41], requires_grad=True)\n"
     ]
    }
   ],
   "source": [
    "for p in linear.parameters(): #이제야 파라미터가 등록됨\n",
    "    print(p)"
   ]
  },
  {
   "cell_type": "code",
   "execution_count": 25,
   "metadata": {},
   "outputs": [],
   "source": [
    "linear = nn.Linear(3,2) # nn 모듈에서 제공해준다!\n",
    "y = linear(x)"
   ]
  },
  {
   "cell_type": "code",
   "execution_count": 26,
   "metadata": {},
   "outputs": [
    {
     "name": "stdout",
     "output_type": "stream",
     "text": [
      "torch.Size([4, 2])\n"
     ]
    }
   ],
   "source": [
    "print(y.size())"
   ]
  },
  {
   "cell_type": "code",
   "execution_count": 27,
   "metadata": {},
   "outputs": [
    {
     "name": "stdout",
     "output_type": "stream",
     "text": [
      "Parameter containing:\n",
      "tensor([[ 0.4014, -0.3768, -0.0279],\n",
      "        [-0.5136, -0.3214,  0.0241]], requires_grad=True)\n",
      "Parameter containing:\n",
      "tensor([-0.1927,  0.3188], requires_grad=True)\n"
     ]
    }
   ],
   "source": [
    "for p in linear.parameters():\n",
    "    print(p)"
   ]
  },
  {
   "cell_type": "code",
   "execution_count": 28,
   "metadata": {},
   "outputs": [],
   "source": [
    "class MyLinear(nn.Module):\n",
    "    def __init__(self,input_dim = 3,output_dim = 2):\n",
    "        self.input_dim = input_dim\n",
    "        self.output_dim = output_dim\n",
    "        \n",
    "        super().__init__()\n",
    "        \n",
    "        self.linear = nn.Linear(input_dim,output_dim)\n",
    "        # 이렇게 불러와도 된다 \n",
    "    def forward(self,x):\n",
    "        # x_size -> (batch_size, input_dim)\n",
    "        y = self.linear(x)\n",
    "        # y_size -> (batch_size, input_dim) * (input_dim, output_dim)\n",
    "        #    = (batch_size, output_dim)\n",
    "        return y"
   ]
  },
  {
   "cell_type": "code",
   "execution_count": null,
   "metadata": {},
   "outputs": [],
   "source": []
  }
 ],
 "metadata": {
  "kernelspec": {
   "display_name": "Python 3",
   "language": "python",
   "name": "python3"
  },
  "language_info": {
   "codemirror_mode": {
    "name": "ipython",
    "version": 3
   },
   "file_extension": ".py",
   "mimetype": "text/x-python",
   "name": "python",
   "nbconvert_exporter": "python",
   "pygments_lexer": "ipython3",
   "version": "3.8.3"
  }
 },
 "nbformat": 4,
 "nbformat_minor": 4
}
